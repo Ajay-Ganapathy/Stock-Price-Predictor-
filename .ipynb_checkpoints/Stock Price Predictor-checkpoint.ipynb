{
 "cells": [
  {
   "cell_type": "code",
   "execution_count": 1,
   "id": "39048d4e",
   "metadata": {},
   "outputs": [],
   "source": [
    "import numpy as np"
   ]
  },
  {
   "cell_type": "code",
   "execution_count": 2,
   "id": "8db7b741",
   "metadata": {},
   "outputs": [
    {
     "name": "stdout",
     "output_type": "stream",
     "text": [
      "5\n"
     ]
    }
   ],
   "source": [
    "print(2+3)"
   ]
  },
  {
   "cell_type": "code",
   "execution_count": 4,
   "id": "1ed7854e",
   "metadata": {},
   "outputs": [
    {
     "name": "stdout",
     "output_type": "stream",
     "text": [
      "Requirement already satisfied: numpy in c:\\users\\ajayvijay\\appdata\\local\\programs\\python\\python311\\lib\\site-packages (1.24.1)\n",
      "Note: you may need to restart the kernel to use updated packages.\n"
     ]
    },
    {
     "name": "stderr",
     "output_type": "stream",
     "text": [
      "\n",
      "[notice] A new release of pip available: 22.3 -> 22.3.1\n",
      "[notice] To update, run: python.exe -m pip install --upgrade pip\n"
     ]
    }
   ],
   "source": [
    "pip install numpy\n"
   ]
  },
  {
   "cell_type": "code",
   "execution_count": 2,
   "id": "f0f74b4b",
   "metadata": {},
   "outputs": [],
   "source": [
    "import numpy as np"
   ]
  },
  {
   "cell_type": "code",
   "execution_count": 3,
   "id": "4ddfa418",
   "metadata": {},
   "outputs": [
    {
     "data": {
      "text/plain": [
       "array(2)"
      ]
     },
     "execution_count": 3,
     "metadata": {},
     "output_type": "execute_result"
    }
   ],
   "source": [
    "np.array(2)"
   ]
  },
  {
   "cell_type": "code",
   "execution_count": 35,
   "id": "3b0a9d12",
   "metadata": {},
   "outputs": [],
   "source": [
    "import sklearn"
   ]
  },
  {
   "cell_type": "code",
   "execution_count": 5,
   "id": "12708bde",
   "metadata": {},
   "outputs": [],
   "source": [
    "import yfinance as yf"
   ]
  },
  {
   "cell_type": "code",
   "execution_count": 6,
   "id": "5ed329d2",
   "metadata": {},
   "outputs": [],
   "source": [
    "import seaborn as sns"
   ]
  },
  {
   "cell_type": "code",
   "execution_count": 7,
   "id": "7141d04a",
   "metadata": {},
   "outputs": [],
   "source": [
    "import pandas as pd"
   ]
  },
  {
   "cell_type": "code",
   "execution_count": 8,
   "id": "f9488b91",
   "metadata": {},
   "outputs": [],
   "source": [
    "import matplotlib.pyplot as plt\n"
   ]
  },
  {
   "cell_type": "code",
   "execution_count": 9,
   "id": "c0e06ed7",
   "metadata": {
    "scrolled": true
   },
   "outputs": [],
   "source": [
    "import seaborn as sns\n"
   ]
  },
  {
   "cell_type": "code",
   "execution_count": 10,
   "id": "49403f7d",
   "metadata": {},
   "outputs": [],
   "source": [
    "import seaborn as sns\n",
    "import matplotlib.pyplot as plt\n",
    "%matplotlib inline"
   ]
  },
  {
   "cell_type": "code",
   "execution_count": null,
   "id": "c60469db",
   "metadata": {},
   "outputs": [],
   "source": [
    "stocks = input(\"Enter the code of stocks :\")\n",
    "data = yf.download(stocks, \"2008-01-01\",\"2021-01-18\")"
   ]
  },
  {
   "cell_type": "code",
   "execution_count": 12,
   "id": "c8a23144",
   "metadata": {},
   "outputs": [
    {
     "data": {
      "text/plain": [
       "(3282, 6)"
      ]
     },
     "execution_count": 12,
     "metadata": {},
     "output_type": "execute_result"
    }
   ],
   "source": [
    "data.shape"
   ]
  },
  {
   "cell_type": "code",
   "execution_count": 13,
   "id": "f29f9acd",
   "metadata": {},
   "outputs": [
    {
     "name": "stdout",
     "output_type": "stream",
     "text": [
      "Requirement already satisfied: sklearn in c:\\users\\ajayvijay\\appdata\\local\\programs\\python\\python311\\lib\\site-packages (0.0.post1)\n",
      "Note: you may need to restart the kernel to use updated packages.\n"
     ]
    }
   ],
   "source": [
    "pip install sklearn --user"
   ]
  },
  {
   "cell_type": "code",
   "execution_count": 14,
   "id": "539937a3",
   "metadata": {},
   "outputs": [
    {
     "name": "stdout",
     "output_type": "stream",
     "text": [
      "<class 'pandas.core.frame.DataFrame'>\n",
      "DatetimeIndex: 3282 entries, 2008-01-02 to 2021-01-15\n",
      "Data columns (total 6 columns):\n",
      " #   Column     Non-Null Count  Dtype  \n",
      "---  ------     --------------  -----  \n",
      " 0   Open       3282 non-null   float64\n",
      " 1   High       3282 non-null   float64\n",
      " 2   Low        3282 non-null   float64\n",
      " 3   Close      3282 non-null   float64\n",
      " 4   Adj Close  3282 non-null   float64\n",
      " 5   Volume     3282 non-null   int64  \n",
      "dtypes: float64(5), int64(1)\n",
      "memory usage: 179.5 KB\n"
     ]
    }
   ],
   "source": [
    "data.info()"
   ]
  },
  {
   "cell_type": "code",
   "execution_count": 15,
   "id": "e259ddeb",
   "metadata": {},
   "outputs": [
    {
     "data": {
      "text/html": [
       "<div>\n",
       "<style scoped>\n",
       "    .dataframe tbody tr th:only-of-type {\n",
       "        vertical-align: middle;\n",
       "    }\n",
       "\n",
       "    .dataframe tbody tr th {\n",
       "        vertical-align: top;\n",
       "    }\n",
       "\n",
       "    .dataframe thead th {\n",
       "        text-align: right;\n",
       "    }\n",
       "</style>\n",
       "<table border=\"1\" class=\"dataframe\">\n",
       "  <thead>\n",
       "    <tr style=\"text-align: right;\">\n",
       "      <th></th>\n",
       "      <th>Open</th>\n",
       "      <th>High</th>\n",
       "      <th>Low</th>\n",
       "      <th>Close</th>\n",
       "      <th>Adj Close</th>\n",
       "      <th>Volume</th>\n",
       "    </tr>\n",
       "  </thead>\n",
       "  <tbody>\n",
       "    <tr>\n",
       "      <th>count</th>\n",
       "      <td>3282.000000</td>\n",
       "      <td>3282.000000</td>\n",
       "      <td>3282.000000</td>\n",
       "      <td>3282.000000</td>\n",
       "      <td>3282.000000</td>\n",
       "      <td>3282.000000</td>\n",
       "    </tr>\n",
       "    <tr>\n",
       "      <th>mean</th>\n",
       "      <td>3.713705</td>\n",
       "      <td>3.787288</td>\n",
       "      <td>3.635038</td>\n",
       "      <td>3.707074</td>\n",
       "      <td>3.707074</td>\n",
       "      <td>131397.603595</td>\n",
       "    </tr>\n",
       "    <tr>\n",
       "      <th>std</th>\n",
       "      <td>1.830425</td>\n",
       "      <td>1.865744</td>\n",
       "      <td>1.789584</td>\n",
       "      <td>1.825297</td>\n",
       "      <td>1.825297</td>\n",
       "      <td>54393.040171</td>\n",
       "    </tr>\n",
       "    <tr>\n",
       "      <th>min</th>\n",
       "      <td>1.441000</td>\n",
       "      <td>1.567000</td>\n",
       "      <td>1.432000</td>\n",
       "      <td>1.482000</td>\n",
       "      <td>1.482000</td>\n",
       "      <td>0.000000</td>\n",
       "    </tr>\n",
       "    <tr>\n",
       "      <th>25%</th>\n",
       "      <td>2.691250</td>\n",
       "      <td>2.736500</td>\n",
       "      <td>2.644000</td>\n",
       "      <td>2.693000</td>\n",
       "      <td>2.693000</td>\n",
       "      <td>91744.250000</td>\n",
       "    </tr>\n",
       "    <tr>\n",
       "      <th>50%</th>\n",
       "      <td>3.253000</td>\n",
       "      <td>3.312000</td>\n",
       "      <td>3.183500</td>\n",
       "      <td>3.240500</td>\n",
       "      <td>3.240500</td>\n",
       "      <td>126669.500000</td>\n",
       "    </tr>\n",
       "    <tr>\n",
       "      <th>75%</th>\n",
       "      <td>4.157750</td>\n",
       "      <td>4.244750</td>\n",
       "      <td>4.066750</td>\n",
       "      <td>4.152000</td>\n",
       "      <td>4.152000</td>\n",
       "      <td>161490.500000</td>\n",
       "    </tr>\n",
       "    <tr>\n",
       "      <th>max</th>\n",
       "      <td>13.580000</td>\n",
       "      <td>13.694000</td>\n",
       "      <td>13.306000</td>\n",
       "      <td>13.577000</td>\n",
       "      <td>13.577000</td>\n",
       "      <td>459196.000000</td>\n",
       "    </tr>\n",
       "  </tbody>\n",
       "</table>\n",
       "</div>"
      ],
      "text/plain": [
       "              Open         High          Low        Close    Adj Close  \\\n",
       "count  3282.000000  3282.000000  3282.000000  3282.000000  3282.000000   \n",
       "mean      3.713705     3.787288     3.635038     3.707074     3.707074   \n",
       "std       1.830425     1.865744     1.789584     1.825297     1.825297   \n",
       "min       1.441000     1.567000     1.432000     1.482000     1.482000   \n",
       "25%       2.691250     2.736500     2.644000     2.693000     2.693000   \n",
       "50%       3.253000     3.312000     3.183500     3.240500     3.240500   \n",
       "75%       4.157750     4.244750     4.066750     4.152000     4.152000   \n",
       "max      13.580000    13.694000    13.306000    13.577000    13.577000   \n",
       "\n",
       "              Volume  \n",
       "count    3282.000000  \n",
       "mean   131397.603595  \n",
       "std     54393.040171  \n",
       "min         0.000000  \n",
       "25%     91744.250000  \n",
       "50%    126669.500000  \n",
       "75%    161490.500000  \n",
       "max    459196.000000  "
      ]
     },
     "execution_count": 15,
     "metadata": {},
     "output_type": "execute_result"
    }
   ],
   "source": [
    "data.describe()"
   ]
  },
  {
   "cell_type": "code",
   "execution_count": 16,
   "id": "efdae38b",
   "metadata": {
    "scrolled": true
   },
   "outputs": [
    {
     "data": {
      "text/plain": [
       "Text(0.5, 1.0, 'NG=F Price Series')"
      ]
     },
     "execution_count": 16,
     "metadata": {},
     "output_type": "execute_result"
    },
    {
     "data": {
      "image/png": "[encoded data removed]",
      "text/plain": [
       "<Figure size 1000x700 with 1 Axes>"
      ]
     },
     "metadata": {},
     "output_type": "display_data"
    }
   ],
   "source": [
    "data.Open.plot(figsize = (10,7),color = 'g')\n",
    "plt.ylabel(f\"{stocks} Prices\")\n",
    "plt.title(f\"{stocks} Price Series\")"
   ]
  },
  {
   "cell_type": "code",
   "execution_count": 37,
   "id": "cfe811de",
   "metadata": {},
   "outputs": [
    {
     "name": "stderr",
     "output_type": "stream",
     "text": [
      "C:\\Users\\AJAYVIJAY\\AppData\\Local\\Temp\\ipykernel_5912\\3218051027.py:1: UserWarning: \n",
      "\n",
      "`distplot` is a deprecated function and will be removed in seaborn v0.14.0.\n",
      "\n",
      "Please adapt your code to use either `displot` (a figure-level function with\n",
      "similar flexibility) or `histplot` (an axes-level function for histograms).\n",
      "\n",
      "For a guide to updating your code to use the new functions, please see\n",
      "https://gist.github.com/mwaskom/de44147ed2974457ad6372750bbe5751\n",
      "\n",
      "  sns.distplot(data[\"Open\"])\n"
     ]
    },
    {
     "data": {
      "text/plain": [
       "<AxesSubplot: xlabel='Open', ylabel='Density'>"
      ]
     },
     "execution_count": 37,
     "metadata": {},
     "output_type": "execute_result"
    },
    {
     "data": {
      "image/png": "[encoded data removed]",
      "text/plain": [
       "<Figure size 640x480 with 1 Axes>"
      ]
     },
     "metadata": {},
     "output_type": "display_data"
    }
   ],
   "source": [
    "sns.distplot(data[\"Open\"])"
   ]
  },
  {
   "cell_type": "code",
   "execution_count": 36,
   "id": "69ea584a",
   "metadata": {},
   "outputs": [
    {
     "name": "stdout",
     "output_type": "stream",
     "text": [
      "(2625, 5)\n",
      "(657, 5)\n",
      "(2625,)\n",
      "(657,)\n"
     ]
    }
   ],
   "source": [
    "from sklearn.model_selection import train_test_split\n",
    "x = data.drop(\"Close\",axis=1)\n",
    "y = data[\"Close\"]\n",
    "\n",
    "X_train , X_test , Y_train , Y_test = train_test_split(x,y,test_size = 0.2 , random_state = 0)\n",
    "print(X_train.shape)\n",
    "print(X_test.shape)\n",
    "print(Y_train.shape)\n",
    "print(Y_test.shape)\n",
    "\n",
    "\n"
   ]
  },
  {
   "cell_type": "code",
   "execution_count": 20,
   "id": "6e2c884f",
   "metadata": {},
   "outputs": [
    {
     "name": "stdout",
     "output_type": "stream",
     "text": [
      "Requirement already satisfied: sklearn in c:\\users\\ajayvijay\\appdata\\local\\programs\\python\\python311\\lib\\site-packages (0.0.post1)\n",
      "Note: you may need to restart the kernel to use updated packages.\n"
     ]
    }
   ],
   "source": [
    "pip install sklearn"
   ]
  },
  {
   "cell_type": "code",
   "execution_count": 60,
   "id": "1553abad",
   "metadata": {},
   "outputs": [],
   "source": [
    "from sklearn.linear_model import LinearRegression\n",
    "\n",
    "lr = LinearRegression()\n",
    "lrfit = lr.fit(X_train,Y_train)\n",
    "pred1 = lr.predict(X_test)"
   ]
  },
  {
   "cell_type": "code",
   "execution_count": 40,
   "id": "edbeac3d",
   "metadata": {},
   "outputs": [
    {
     "data": {
      "text/plain": [
       "array([ 2.81200004,  5.8210001 ,  2.66199994,  5.98999977,  2.08299994,\n",
       "       12.86100006,  3.98799992,  4.82200003,  1.78199995,  4.79500008,\n",
       "        2.83999991,  3.55999994,  2.73699999,  2.96099997,  4.22700024,\n",
       "        2.46300006,  4.12099981,  4.55999994,  8.96500015,  2.93899989,\n",
       "        4.35500002,  2.67499995,  2.53500009,  2.33699989,  2.85299993,\n",
       "        1.94400001,  2.75900006,  3.93799996,  3.30599999,  4.70499992,\n",
       "        3.99099994,  2.69799995, 11.59799957,  4.24399996,  4.33699989,\n",
       "        3.70700002,  3.49900007,  5.41599989,  3.65700006,  3.43600011,\n",
       "        3.98399997,  2.43000007,  2.66700006,  2.57999992,  3.14199996,\n",
       "        4.41300011,  4.2670002 ,  2.73399997,  3.90899992,  2.03900003,\n",
       "        4.08300018,  2.47199988,  2.26900005,  3.94099998,  1.92700005,\n",
       "        3.23000002,  3.72300005,  4.87300014,  4.36399984,  3.40300012,\n",
       "        2.70000005,  3.88100004,  4.6789999 ,  3.13800001,  2.47000003,\n",
       "        2.55200005,  4.35699987,  3.898     ,  2.46700001,  2.83299994,\n",
       "        4.83500004,  2.81299996,  3.76399994,  4.35099983,  8.13300037,\n",
       "        3.8900001 ,  2.15199995,  4.37699986,  4.        ,  2.08800006,\n",
       "        3.0079999 ,  1.83700001,  7.86899996,  2.74099994,  2.70900011,\n",
       "        2.5539999 ,  2.94000006,  2.58100009,  4.36999989,  2.55200005,\n",
       "        2.83899999, 12.99400043,  3.31399989,  4.40899992,  2.74000001,\n",
       "        2.95099998,  4.36299992,  3.76799989,  2.93499994,  3.76900005,\n",
       "        2.9920001 ,  3.64700007,  2.74699998,  2.94499993,  3.12800002,\n",
       "        2.727     ,  4.46299982,  1.597     ,  2.91899991,  3.98399997,\n",
       "        6.74300003,  3.74699998,  1.926     ,  3.03699994,  2.82800007,\n",
       "        4.75699997,  4.02400017,  2.85299993,  3.51900005,  3.27900004,\n",
       "        2.66000009,  5.46799994,  2.94799995,  2.60800004,  3.796     ,\n",
       "        2.16899991,  4.69999981,  4.80100012,  4.08799982,  3.92700005,\n",
       "        3.48000002,  6.53499985,  4.39900017,  5.0619998 ,  4.52299976,\n",
       "        3.1170001 ,  3.87199998,  3.4519999 ,  2.09100008,  4.0619998 ,\n",
       "        2.94199991,  2.15799999,  5.78200006,  2.79699993,  1.78799999,\n",
       "        1.71000004,  3.13000011,  3.55900002,  2.93300009,  2.89599991,\n",
       "        4.82399988,  2.9230001 ,  4.23199987,  2.5940001 ,  1.77400005,\n",
       "        3.91899991,  2.87100005,  2.9519999 ,  4.46700001,  3.50300002,\n",
       "        4.31099987,  2.23200011,  2.296     ,  2.94899988,  3.27600002,\n",
       "        4.01900005,  3.79999995,  1.954     ,  6.70499992,  1.84399998,\n",
       "        2.39899993,  3.046     ,  2.95499992,  3.23200011,  3.77800012,\n",
       "        1.71099997,  3.73099995,  2.89299989,  2.43099999,  8.77200031,\n",
       "        2.81999993,  2.74099994,  2.69099998,  4.52699995,  3.921     ,\n",
       "        3.90899992,  2.56100011,  2.71499991,  2.98699999,  8.72599983,\n",
       "        1.903     ,  2.59200001,  3.17499995,  2.96700001,  2.93400002,\n",
       "        6.83500004,  3.83599997,  4.75699997,  2.78600001,  3.94099998,\n",
       "        2.53800011,  5.69099998,  3.4289999 ,  4.23699999,  2.82399988,\n",
       "        2.625     ,  2.62700009,  5.41900015,  4.58599997,  3.87199998,\n",
       "        4.71899986,  3.78900003,  3.58599997,  3.69199991,  2.2349999 ,\n",
       "        2.64299989,  1.86899996,  2.96399999,  2.3210001 ,  5.61499977,\n",
       "        3.6960001 ,  3.15799999,  3.83999991,  3.09599996,  1.63800001,\n",
       "        2.89100003,  4.89799976,  2.8900001 ,  4.40199995,  3.23000002,\n",
       "        4.09800005,  3.12700009,  4.6420002 ,  3.14499998,  3.18899989,\n",
       "        3.96600008,  4.09000015,  1.69000006,  2.24399996,  2.5769999 ,\n",
       "        4.09399986,  4.84800005,  3.8829999 ,  2.69700003,  3.71600008,\n",
       "        2.77699995,  3.92499995,  4.42000008,  2.33599997,  4.32299995,\n",
       "        4.73899984,  2.91400003,  3.31500006,  3.71099997,  2.10100007,\n",
       "        3.28900003,  4.00299978,  6.0170002 ,  3.35400009,  3.81699991,\n",
       "        2.47600007,  2.80500007,  4.25699997,  4.35699987,  8.13599968,\n",
       "        6.82499981,  2.02900004, 13.35299969,  2.58200002,  3.81900001,\n",
       "        2.28699994,  4.00699997,  3.80100012,  2.63400006,  3.84699988,\n",
       "       11.96899986,  3.93899989,  3.83200002,  4.46899986,  2.80200005,\n",
       "        3.31999993,  2.95000005,  3.63100004,  2.97600007, 10.20499992,\n",
       "        2.75500011,  2.0250001 ,  4.07700014,  3.65700006,  3.16899991,\n",
       "        3.34899998,  2.58400011,  4.4289999 ,  2.28600001,  2.81599998,\n",
       "        4.38800001,  1.81900001,  5.48500013,  7.26399994,  2.71000004,\n",
       "        2.5       ,  2.56699991,  3.48699999,  3.15300012,  2.32299995,\n",
       "        1.85399997,  9.44299984,  2.77999997,  3.11199999,  3.48200011,\n",
       "        2.53399992,  2.71300006,  1.995     ,  3.22399998,  2.94799995,\n",
       "        3.79999995,  3.0079999 ,  6.78299999,  4.08799982,  3.7809999 ,\n",
       "        3.94499993,  3.49799991,  2.79699993,  3.40400004,  3.68899989,\n",
       "        2.33999991,  3.69000006,  3.58200002,  3.88700008,  7.67399979,\n",
       "        4.01900005,  2.15799999,  2.78600001,  5.97100019,  1.73899996,\n",
       "        4.76200008,  3.59100008,  4.16599989,  3.9849999 ,  3.04999995,\n",
       "        4.17399979,  4.22200012,  4.0079999 ,  4.43300009,  4.3920002 ,\n",
       "        2.00300002,  2.21399999,  4.82399988,  2.63199997,  1.67499995,\n",
       "        5.01100016,  4.61600018,  3.58100009,  2.77200007,  3.82299995,\n",
       "        3.07599998,  1.77900004,  2.74699998,  4.09700012,  3.83400011,\n",
       "        5.00600004,  2.30299997,  3.29699993,  3.06299996,  1.82700002,\n",
       "        8.09500027,  4.18200016,  6.88800001,  1.61399996,  3.02999997,\n",
       "        4.03100014, 10.22999954,  4.171     ,  2.93899989,  4.82700014,\n",
       "        2.7349999 ,  1.75100005,  4.45900011,  3.30999994,  2.9849999 ,\n",
       "        2.65100002,  2.93799996,  3.43499994,  2.31999993,  3.86899996,\n",
       "        4.05600023,  1.63399994,  4.64300013,  4.42500019,  4.53100014,\n",
       "        1.64100003,  2.73699999,  2.16599989,  1.79400003,  2.32800007,\n",
       "        2.91400003,  4.67000008,  2.77399993,  2.97199988,  2.50999999,\n",
       "        3.15499997,  2.98200011,  2.80999994,  3.86500001,  3.6170001 ,\n",
       "        4.37099981,  3.12700009,  3.50600004,  4.51100016,  5.16300011,\n",
       "        2.68199992,  2.95600009,  3.03299999,  7.94199991,  3.53800011,\n",
       "        2.77399993,  3.9749999 ,  4.7249999 ,  2.95900011,  3.39199996,\n",
       "        3.00699997,  2.63400006, 10.51000023,  3.45499992,  2.36400008,\n",
       "        5.62200022,  6.74100018,  4.15799999,  3.05900002,  2.23399997,\n",
       "        4.41800022,  7.96700001,  3.62299991,  2.6329999 ,  2.65700006,\n",
       "        7.24800014,  2.625     ,  3.70700002,  3.44400001,  3.15199995,\n",
       "        3.49799991,  4.58400011,  2.66400003,  7.65799999,  3.14100003,\n",
       "        1.74600005,  4.7670002 ,  3.60500002,  3.11299992,  4.32600021,\n",
       "        2.64299989,  2.6500001 ,  2.17799997,  2.7750001 ,  3.102     ,\n",
       "        4.03900003,  3.99099994,  1.90699995,  2.32399988,  1.98300004,\n",
       "        3.95499992,  2.12599993,  3.1170001 ,  2.90799999,  3.93099999,\n",
       "        2.67499995,  2.85400009,  2.62599993,  2.2019999 ,  2.88899994,\n",
       "        2.57500005,  3.4289999 ,  2.77200007,  3.08200002,  2.06299996,\n",
       "        2.50200009,  4.15999985,  2.77999997,  7.72800016,  3.8499999 ,\n",
       "        2.28200006,  4.89499998,  3.19499993,  2.40499997,  4.57700014,\n",
       "        2.91599989,  1.77999997,  3.70099998,  2.87299991,  4.3039999 ,\n",
       "        3.93300009,  4.61999989,  2.5079999 ,  2.74699998,  2.69799995,\n",
       "        2.79500008,  4.97800016,  3.81800008,  1.58700001,  2.61199999,\n",
       "        5.90999985, 10.05300045,  3.91100001,  2.61899996,  3.63400006,\n",
       "        4.27600002,  3.99300003,  7.80200005,  1.95099998,  2.38599992,\n",
       "        4.1079998 ,  7.90999985,  3.03999996,  2.86500001,  3.954     ,\n",
       "        2.30800009,  2.42700005,  3.87700009,  2.75900006,  3.46000004,\n",
       "        3.56599998,  3.54099989,  3.55500007,  3.73200011,  2.5999999 ,\n",
       "        2.89599991,  4.27699995,  2.68000007,  2.97099996,  3.08500004,\n",
       "        2.19099998,  3.3269999 ,  3.97600007,  3.12700009,  2.82800007,\n",
       "        4.66200018,  3.8269999 ,  3.53399992,  4.39099979,  2.21199989,\n",
       "        2.81399989,  5.29199982,  3.54200006,  2.78299999,  4.59000015,\n",
       "        3.43099999,  2.97399998,  4.26200008,  2.90700006,  3.6960001 ,\n",
       "        3.28500009,  4.13000011,  3.93099999,  5.17199993,  3.55599999,\n",
       "        2.45499992,  3.37299991,  2.14100003,  2.62100005,  4.71000004,\n",
       "        8.1960001 ,  4.24700022,  2.09800005,  2.046     ,  2.83500004,\n",
       "        9.90100002,  1.66600001,  8.38799953,  4.93100023,  3.41799998,\n",
       "        4.13899994,  2.06999993,  3.2420001 ,  2.43099999,  1.75199997,\n",
       "        2.93799996,  5.54199982,  2.96199989,  2.27900004,  2.773     ,\n",
       "        4.31500006,  1.98399997,  3.55500007,  3.58400011,  2.90799999,\n",
       "        4.64599991,  3.00699997,  1.70799994,  1.82700002,  4.81500006,\n",
       "        2.59800005,  3.80200005,  4.59299994,  2.26699996,  6.38600016,\n",
       "        3.829     ,  2.79399991,  3.26600003,  2.67499995,  4.15100002,\n",
       "        2.0150001 ,  5.7420001 ,  4.73000002,  4.16400003,  2.18899989,\n",
       "        3.648     ,  1.93599999,  1.778     , 10.56999969,  2.07599998,\n",
       "        3.46700001,  4.96299982,  3.79299998,  2.26699996,  1.74600005,\n",
       "        5.28999996,  5.33400011,  2.50699997,  5.75099993,  2.94000006,\n",
       "        3.88199997,  3.56599998,  2.93000007,  3.19799995,  1.99199998,\n",
       "        3.56699991,  2.29900002,  1.86099994,  2.83599997,  4.20499992,\n",
       "        1.76699996,  3.53900003,  9.02400017,  3.61899996,  2.15899992,\n",
       "        3.26099992,  2.14700007,  2.40400004,  3.10500002,  2.24799991,\n",
       "        1.83500004,  4.79400015,  8.72599983,  2.35500002,  3.38599992,\n",
       "        2.94099998,  3.3210001 ,  2.35599995,  2.69700003,  5.70900011,\n",
       "        3.90499997,  3.6099999 ,  3.93000007,  3.23000002,  3.73799992,\n",
       "        2.52399993,  4.03499985])"
      ]
     },
     "execution_count": 40,
     "metadata": {},
     "output_type": "execute_result"
    }
   ],
   "source": [
    "pred1"
   ]
  },
  {
   "cell_type": "code",
   "execution_count": 49,
   "id": "37670fb4",
   "metadata": {},
   "outputs": [
    {
     "name": "stdout",
     "output_type": "stream",
     "text": [
      "MSE = 1.7128757764145352e-30\n",
      "RMSE = 1.3087688017425137e-15\n",
      "R2 Score = 1.0\n"
     ]
    }
   ],
   "source": [
    "from sklearn.metrics import mean_squared_error , r2_score\n",
    "\n",
    "def calculate_metrics(y_test,y_pred):\n",
    "    mse = mean_squared_error(y_test,y_pred)\n",
    "    r2_scores = r2_score(y_test,y_pred)\n",
    "    rmse = np.sqrt(mse)\n",
    "    print(f\"MSE = {mse}\")\n",
    "    print(f\"RMSE = {rmse}\")\n",
    "    print(f\"R2 Score = { r2_scores}\")\n",
    "    \n",
    "calculate_metrics(Y_test,pred1)"
   ]
  },
  {
   "cell_type": "code",
   "execution_count": 56,
   "id": "a427a1cc",
   "metadata": {},
   "outputs": [
    {
     "name": "stdout",
     "output_type": "stream",
     "text": [
      "MSE = 0.23692336260532862\n",
      "RMSE = 0.4867477402159445\n",
      "R2 Score = 0.9132831519010187\n",
      "[ 3.04855747  5.31198788  3.118879    5.44775576  2.35335749 10.04258263\n",
      "  3.85642304  4.21863084  2.69647964  4.51794897  3.06845663  3.67546718\n",
      "  3.05830869  3.05124627  4.30593574  2.79077594  3.99511868  4.47737197\n",
      "  7.53425218  3.49011631  4.2082958   2.89158271  2.88018181  2.72301396\n",
      "  3.02665758  2.10472894  2.97998272  3.91079335  3.21637033  4.57765545\n",
      "  4.0125081   3.17426152  9.31026406  4.14157231  4.14197259  3.93662582\n",
      "  3.56674968  4.85474309  3.76869833  3.43143432  3.70722429  2.87435982\n",
      "  2.98686687  2.48367348  3.05177378  4.43855959  4.15135845  3.11194702\n",
      "  3.96814806  2.39182246  4.21869643  2.73116319  2.77308446  3.73203304\n",
      "  2.64879043  3.31762807  3.4707861   4.66238983  4.21426551  3.80617146\n",
      "  3.02023234  4.09854226  4.58768934  3.2041298   2.47318895  2.62981441\n",
      "  4.30200176  3.95716874  2.80134178  2.95311373  4.44260562  3.10365405\n",
      "  3.71956374  4.05138386  6.94396303  3.73516954  2.81150048  4.33714614\n",
      "  4.05579082  2.40736167  3.00561585  2.21153143  6.73971897  2.92876132\n",
      "  2.99718625  2.66455025  3.30153181  2.97749652  4.29734939  2.68762769\n",
      "  3.00901547 10.21654201  3.36994635  4.36749702  3.37648409  3.10058505\n",
      "  4.13370659  3.95726993  2.96341756  3.71816837  2.73240311  3.91645636\n",
      "  3.37504399  3.29063325  3.37162682  3.15535331  4.38651339  2.60971973\n",
      "  3.38950363  3.97356314  5.9594157   3.64184229  2.32908868  2.99520898\n",
      "  3.11437511  4.62105818  3.988814    3.15988982  3.45760809  3.42457464\n",
      "  3.13650812  4.8311987   3.02691599  3.16773622  3.83652162  2.99191574\n",
      "  3.89135541  4.82415779  4.28879357  3.89294121  3.22484467  5.94981597\n",
      "  4.3341934   4.74233719  4.37127502  3.32231709  3.94451005  3.46735242\n",
      "  2.62611996  3.61056004  3.10840749  2.61225855  5.24292537  2.79987101\n",
      "  1.84963375  2.49135086  3.12530627  3.76790969  3.08990251  3.20016392\n",
      "  4.72200549  3.00677425  3.85218549  2.68674191  2.14820829  3.82893097\n",
      "  3.18261906  3.15962112  4.32951455  3.6676364   4.33360225  2.58599603\n",
      "  2.60524309  3.27045473  3.43632772  4.02945897  3.86978646  2.52828211\n",
      "  6.19002111  1.79583187  2.59535352  3.19642434  2.99278517  3.21103894\n",
      "  3.66926644  2.19050089  3.84773781  2.92669765  2.60048395  7.24059669\n",
      "  3.18937455  2.79093159  2.92740577  4.47038129  3.88920267  3.8929106\n",
      "  2.80918314  2.56413568  3.2467473   7.70374509  2.39398233  2.91197564\n",
      "  3.21020306  3.21947972  3.24950817  6.3067097   3.98271919  4.37893727\n",
      "  3.0384082   3.59266205  2.69852805  5.10785458  3.64396557  4.09082009\n",
      "  2.98581707  3.17624187  2.70953471  5.02141401  4.06830531  4.08453276\n",
      "  4.51515596  3.90545991  3.6536325   3.82130234  2.82426944  3.00468568\n",
      "  2.39848587  3.26444373  2.54307401  5.07354495  3.46194368  3.10287204\n",
      "  4.08005356  3.44182551  2.2146551   2.79107653  4.58307602  3.04533087\n",
      "  4.37369899  3.08613544  3.90379758  3.40273     4.57378061  3.05258338\n",
      "  3.47210633  3.98588493  4.01387886  2.24479931  2.99846275  3.03600576\n",
      "  3.98789262  4.68594914  3.89796475  3.11385436  3.43253373  3.05615033\n",
      "  3.94471484  4.13455883  2.90646097  4.24394394  4.55457842  2.48869035\n",
      "  3.56901083  3.79455417  2.60214092  3.66651513  3.85882272  5.67065419\n",
      "  3.67512687  4.05878946  2.79423826  3.11078735  4.1502662   4.25256739\n",
      "  6.99697009  6.03624871  2.85882339 10.42970751  2.77192491  3.79628192\n",
      "  2.60341068  3.80838793  4.09566265  3.01454179  3.87899241  9.48904076\n",
      "  3.94452425  3.88872635  4.21322604  2.93743235  3.26780109  3.03663682\n",
      "  4.0378029   2.96015586  8.29018594  3.00571623  2.30524789  4.24012902\n",
      "  3.55732781  3.39110328  3.42006472  2.9982128   4.18630544  2.53791372\n",
      "  2.90973576  4.3902517   2.32052092  5.24526481  6.23085532  2.96209502\n",
      "  2.86553068  2.91667862  3.55716951  3.33298432  2.7594884   2.3221036\n",
      "  7.7331976   3.36992767  3.58614266  3.41562266  2.90969011  2.97286188\n",
      "  2.38474135  3.11101596  3.26857203  3.72630714  2.89094086  6.03379456\n",
      "  3.91069437  4.11547253  4.16553166  3.24286379  3.01628254  3.48970798\n",
      "  3.89743789  2.66511107  3.76900112  3.37988286  3.90499492  6.72940341\n",
      "  3.98186727  2.37302719  3.32047591  5.579905    2.29503335  4.4602169\n",
      "  3.60132744  4.21034976  3.88615082  3.27058066  4.18673044  3.9545306\n",
      "  3.84075933  4.49658024  4.13058458  2.27266349  2.72972956  4.35879382\n",
      "  2.80955392  2.3056376   4.27374226  4.41584111  3.57739052  2.69405798\n",
      "  3.91326278  3.35516992  2.27153193  2.89381421  4.14428735  3.99757055\n",
      "  4.52936145  2.55729672  3.77715226  2.99208822  2.64570587  6.87815388\n",
      "  4.13799868  6.09423554  2.17813005  3.6072352   3.90401642  8.26216648\n",
      "  4.17427522  3.03759693  4.44342752  2.8961544   2.1721579   4.39680688\n",
      "  3.23165644  2.88302725  3.05109461  3.23003421  3.42944725  2.69148194\n",
      "  3.97145461  4.23360948  2.34677025  4.28985596  4.37075924  4.2182856\n",
      "  2.19819843  3.05236062  2.2731969   2.3711337   2.28707008  3.21764637\n",
      "  4.50718179  3.00649354  3.05250276  2.6215363   3.4211206   3.15641136\n",
      "  3.10064306  4.10072139  3.70194412  4.23167042  3.29339739  3.75418753\n",
      "  4.22833319  4.64831658  2.96397731  3.31035996  3.49738348  6.81586624\n",
      "  3.76457287  3.22312384  3.96700208  4.67452723  3.20696467  3.76182866\n",
      "  3.26532734  3.22491949  8.58301369  3.34143454  2.61858405  5.47050556\n",
      "  6.12675603  4.17235604  3.15383344  2.48390786  4.24260011  6.80982228\n",
      "  3.81476897  2.79827043  2.93700418  6.28207338  2.95496871  3.72348927\n",
      "  3.73180522  2.88194969  3.57957401  4.23337359  2.88469449  6.60390336\n",
      "  3.20097183  2.60613868  4.62430082  3.75604051  3.33001542  4.02780073\n",
      "  2.99737831  3.17351582  2.2969816   3.35297867  2.96431953  3.95119287\n",
      "  4.10293884  2.52175141  2.82790563  2.19451199  3.93722585  2.64939631\n",
      "  3.10165113  3.24083265  4.10832717  2.80264913  3.27624959  2.95155487\n",
      "  2.92260416  3.33157934  2.76892614  3.62767356  3.0162757   3.49445326\n",
      "  2.44629718  2.85864879  3.90536879  3.10116577  6.65220761  4.03489804\n",
      "  2.66784007  4.70276129  2.90014712  2.71328661  4.34738048  3.17621483\n",
      "  2.12624061  3.90058988  2.52846375  4.077691    3.96885343  4.36871524\n",
      "  3.02942207  2.85645895  2.96248765  3.05577226  4.70364865  3.74179741\n",
      "  2.25941307  2.79125298  5.4918239   8.20104642  4.08987587  2.94873539\n",
      "  3.57362816  4.19920707  3.84169065  6.738743    2.59362472  2.83852519\n",
      "  3.86256215  6.57604945  3.23999028  3.25308283  3.98317682  3.00731001\n",
      "  2.65288579  3.78441418  2.84761434  3.32130872  3.70229844  3.53531066\n",
      "  3.40373387  4.07707569  2.98565403  3.22048625  4.14567524  3.08611357\n",
      "  3.40281391  3.61353061  2.7044766   3.29983139  3.8717773   3.26329582\n",
      "  3.0619211   4.26627013  3.681104    3.82264255  4.26437341  2.95165669\n",
      "  2.91535049  4.75235563  3.73875901  3.11524401  4.30651859  3.49812859\n",
      "  3.07889489  4.23475402  3.19624429  3.73150126  3.39478426  4.16322748\n",
      "  3.80405595  4.85084026  3.71148198  2.91795459  3.44997692  2.2375928\n",
      "  3.01020543  4.42825127  7.06924032  3.90994813  2.68276351  2.53421047\n",
      "  2.74692284  8.12233134  2.41471821  7.0936557   4.53857546  3.50174014\n",
      "  3.63579557  2.4173765   3.26866485  2.94701233  2.26765666  3.13722236\n",
      "  5.25160125  3.02881993  2.73734405  3.07003985  4.24150204  2.43291357\n",
      "  3.40854533  3.80172879  3.17461157  4.08744202  3.37029241  2.06395965\n",
      "  2.3902582   4.60287513  3.19898555  3.77369784  4.51615092  2.8223811\n",
      "  6.00959181  3.81759176  2.95702517  3.61189533  3.00119749  4.15583967\n",
      "  2.38457297  5.43458959  4.62181189  4.02145005  2.70985125  3.62777414\n",
      "  2.33786456  2.51630201  8.62162633  2.57613621  3.25116122  4.50276097\n",
      "  3.87034711  2.67519601  2.34025572  4.77311904  5.2998091   2.52896922\n",
      "  5.37906336  3.10747359  3.73602612  3.64080888  3.1684741   3.21321373\n",
      "  2.80295827  2.93186886  2.67613984  2.20787884  3.18468819  4.16747036\n",
      "  2.12643156  3.71144858  7.69363334  3.75843123  2.71558509  3.27095012\n",
      "  2.3863425   2.75559981  3.47802913  2.9907659   2.08810043  4.21372277\n",
      "  7.29453346  2.92216807  3.22937993  3.20481915  3.71776315  2.91825691\n",
      "  3.05981154  5.41903461  3.74180154  4.02232745  3.78534174  3.21987519\n",
      "  3.74342812  2.97074286  4.14283869]\n",
      "[ 3.04855747  5.31198788  3.118879    5.44775576  2.35335749 10.04258263\n",
      "  3.85642304  4.21863084  2.69647964  4.51794897  3.06845663  3.67546718\n",
      "  3.05830869  3.05124627  4.30593574  2.79077594  3.99511868  4.47737197\n",
      "  7.53425218  3.49011631  4.2082958   2.89158271  2.88018181  2.72301396\n",
      "  3.02665758  2.10472894  2.97998272  3.91079335  3.21637033  4.57765545\n",
      "  4.0125081   3.17426152  9.31026406  4.14157231  4.14197259  3.93662582\n",
      "  3.56674968  4.85474309  3.76869833  3.43143432  3.70722429  2.87435982\n",
      "  2.98686687  2.48367348  3.05177378  4.43855959  4.15135845  3.11194702\n",
      "  3.96814806  2.39182246  4.21869643  2.73116319  2.77308446  3.73203304\n",
      "  2.64879043  3.31762807  3.4707861   4.66238983  4.21426551  3.80617146\n",
      "  3.02023234  4.09854226  4.58768934  3.2041298   2.47318895  2.62981441\n",
      "  4.30200176  3.95716874  2.80134178  2.95311373  4.44260562  3.10365405\n",
      "  3.71956374  4.05138386  6.94396303  3.73516954  2.81150048  4.33714614\n",
      "  4.05579082  2.40736167  3.00561585  2.21153143  6.73971897  2.92876132\n",
      "  2.99718625  2.66455025  3.30153181  2.97749652  4.29734939  2.68762769\n",
      "  3.00901547 10.21654201  3.36994635  4.36749702  3.37648409  3.10058505\n",
      "  4.13370659  3.95726993  2.96341756  3.71816837  2.73240311  3.91645636\n",
      "  3.37504399  3.29063325  3.37162682  3.15535331  4.38651339  2.60971973\n",
      "  3.38950363  3.97356314  5.9594157   3.64184229  2.32908868  2.99520898\n",
      "  3.11437511  4.62105818  3.988814    3.15988982  3.45760809  3.42457464\n",
      "  3.13650812  4.8311987   3.02691599  3.16773622  3.83652162  2.99191574\n",
      "  3.89135541  4.82415779  4.28879357  3.89294121  3.22484467  5.94981597\n",
      "  4.3341934   4.74233719  4.37127502  3.32231709  3.94451005  3.46735242\n",
      "  2.62611996  3.61056004  3.10840749  2.61225855  5.24292537  2.79987101\n",
      "  1.84963375  2.49135086  3.12530627  3.76790969  3.08990251  3.20016392\n",
      "  4.72200549  3.00677425  3.85218549  2.68674191  2.14820829  3.82893097\n",
      "  3.18261906  3.15962112  4.32951455  3.6676364   4.33360225  2.58599603\n",
      "  2.60524309  3.27045473  3.43632772  4.02945897  3.86978646  2.52828211\n",
      "  6.19002111  1.79583187  2.59535352  3.19642434  2.99278517  3.21103894\n",
      "  3.66926644  2.19050089  3.84773781  2.92669765  2.60048395  7.24059669\n",
      "  3.18937455  2.79093159  2.92740577  4.47038129  3.88920267  3.8929106\n",
      "  2.80918314  2.56413568  3.2467473   7.70374509  2.39398233  2.91197564\n",
      "  3.21020306  3.21947972  3.24950817  6.3067097   3.98271919  4.37893727\n",
      "  3.0384082   3.59266205  2.69852805  5.10785458  3.64396557  4.09082009\n",
      "  2.98581707  3.17624187  2.70953471  5.02141401  4.06830531  4.08453276\n",
      "  4.51515596  3.90545991  3.6536325   3.82130234  2.82426944  3.00468568\n",
      "  2.39848587  3.26444373  2.54307401  5.07354495  3.46194368  3.10287204\n",
      "  4.08005356  3.44182551  2.2146551   2.79107653  4.58307602  3.04533087\n",
      "  4.37369899  3.08613544  3.90379758  3.40273     4.57378061  3.05258338\n",
      "  3.47210633  3.98588493  4.01387886  2.24479931  2.99846275  3.03600576\n",
      "  3.98789262  4.68594914  3.89796475  3.11385436  3.43253373  3.05615033\n",
      "  3.94471484  4.13455883  2.90646097  4.24394394  4.55457842  2.48869035\n",
      "  3.56901083  3.79455417  2.60214092  3.66651513  3.85882272  5.67065419\n",
      "  3.67512687  4.05878946  2.79423826  3.11078735  4.1502662   4.25256739\n",
      "  6.99697009  6.03624871  2.85882339 10.42970751  2.77192491  3.79628192\n",
      "  2.60341068  3.80838793  4.09566265  3.01454179  3.87899241  9.48904076\n",
      "  3.94452425  3.88872635  4.21322604  2.93743235  3.26780109  3.03663682\n",
      "  4.0378029   2.96015586  8.29018594  3.00571623  2.30524789  4.24012902\n",
      "  3.55732781  3.39110328  3.42006472  2.9982128   4.18630544  2.53791372\n",
      "  2.90973576  4.3902517   2.32052092  5.24526481  6.23085532  2.96209502\n",
      "  2.86553068  2.91667862  3.55716951  3.33298432  2.7594884   2.3221036\n",
      "  7.7331976   3.36992767  3.58614266  3.41562266  2.90969011  2.97286188\n",
      "  2.38474135  3.11101596  3.26857203  3.72630714  2.89094086  6.03379456\n",
      "  3.91069437  4.11547253  4.16553166  3.24286379  3.01628254  3.48970798\n",
      "  3.89743789  2.66511107  3.76900112  3.37988286  3.90499492  6.72940341\n",
      "  3.98186727  2.37302719  3.32047591  5.579905    2.29503335  4.4602169\n",
      "  3.60132744  4.21034976  3.88615082  3.27058066  4.18673044  3.9545306\n",
      "  3.84075933  4.49658024  4.13058458  2.27266349  2.72972956  4.35879382\n",
      "  2.80955392  2.3056376   4.27374226  4.41584111  3.57739052  2.69405798\n",
      "  3.91326278  3.35516992  2.27153193  2.89381421  4.14428735  3.99757055\n",
      "  4.52936145  2.55729672  3.77715226  2.99208822  2.64570587  6.87815388\n",
      "  4.13799868  6.09423554  2.17813005  3.6072352   3.90401642  8.26216648\n",
      "  4.17427522  3.03759693  4.44342752  2.8961544   2.1721579   4.39680688\n",
      "  3.23165644  2.88302725  3.05109461  3.23003421  3.42944725  2.69148194\n",
      "  3.97145461  4.23360948  2.34677025  4.28985596  4.37075924  4.2182856\n",
      "  2.19819843  3.05236062  2.2731969   2.3711337   2.28707008  3.21764637\n",
      "  4.50718179  3.00649354  3.05250276  2.6215363   3.4211206   3.15641136\n",
      "  3.10064306  4.10072139  3.70194412  4.23167042  3.29339739  3.75418753\n",
      "  4.22833319  4.64831658  2.96397731  3.31035996  3.49738348  6.81586624\n",
      "  3.76457287  3.22312384  3.96700208  4.67452723  3.20696467  3.76182866\n",
      "  3.26532734  3.22491949  8.58301369  3.34143454  2.61858405  5.47050556\n",
      "  6.12675603  4.17235604  3.15383344  2.48390786  4.24260011  6.80982228\n",
      "  3.81476897  2.79827043  2.93700418  6.28207338  2.95496871  3.72348927\n",
      "  3.73180522  2.88194969  3.57957401  4.23337359  2.88469449  6.60390336\n",
      "  3.20097183  2.60613868  4.62430082  3.75604051  3.33001542  4.02780073\n",
      "  2.99737831  3.17351582  2.2969816   3.35297867  2.96431953  3.95119287\n",
      "  4.10293884  2.52175141  2.82790563  2.19451199  3.93722585  2.64939631\n",
      "  3.10165113  3.24083265  4.10832717  2.80264913  3.27624959  2.95155487\n",
      "  2.92260416  3.33157934  2.76892614  3.62767356  3.0162757   3.49445326\n",
      "  2.44629718  2.85864879  3.90536879  3.10116577  6.65220761  4.03489804\n",
      "  2.66784007  4.70276129  2.90014712  2.71328661  4.34738048  3.17621483\n",
      "  2.12624061  3.90058988  2.52846375  4.077691    3.96885343  4.36871524\n",
      "  3.02942207  2.85645895  2.96248765  3.05577226  4.70364865  3.74179741\n",
      "  2.25941307  2.79125298  5.4918239   8.20104642  4.08987587  2.94873539\n",
      "  3.57362816  4.19920707  3.84169065  6.738743    2.59362472  2.83852519\n",
      "  3.86256215  6.57604945  3.23999028  3.25308283  3.98317682  3.00731001\n",
      "  2.65288579  3.78441418  2.84761434  3.32130872  3.70229844  3.53531066\n",
      "  3.40373387  4.07707569  2.98565403  3.22048625  4.14567524  3.08611357\n",
      "  3.40281391  3.61353061  2.7044766   3.29983139  3.8717773   3.26329582\n",
      "  3.0619211   4.26627013  3.681104    3.82264255  4.26437341  2.95165669\n",
      "  2.91535049  4.75235563  3.73875901  3.11524401  4.30651859  3.49812859\n",
      "  3.07889489  4.23475402  3.19624429  3.73150126  3.39478426  4.16322748\n",
      "  3.80405595  4.85084026  3.71148198  2.91795459  3.44997692  2.2375928\n",
      "  3.01020543  4.42825127  7.06924032  3.90994813  2.68276351  2.53421047\n",
      "  2.74692284  8.12233134  2.41471821  7.0936557   4.53857546  3.50174014\n",
      "  3.63579557  2.4173765   3.26866485  2.94701233  2.26765666  3.13722236\n",
      "  5.25160125  3.02881993  2.73734405  3.07003985  4.24150204  2.43291357\n",
      "  3.40854533  3.80172879  3.17461157  4.08744202  3.37029241  2.06395965\n",
      "  2.3902582   4.60287513  3.19898555  3.77369784  4.51615092  2.8223811\n",
      "  6.00959181  3.81759176  2.95702517  3.61189533  3.00119749  4.15583967\n",
      "  2.38457297  5.43458959  4.62181189  4.02145005  2.70985125  3.62777414\n",
      "  2.33786456  2.51630201  8.62162633  2.57613621  3.25116122  4.50276097\n",
      "  3.87034711  2.67519601  2.34025572  4.77311904  5.2998091   2.52896922\n",
      "  5.37906336  3.10747359  3.73602612  3.64080888  3.1684741   3.21321373\n",
      "  2.80295827  2.93186886  2.67613984  2.20787884  3.18468819  4.16747036\n",
      "  2.12643156  3.71144858  7.69363334  3.75843123  2.71558509  3.27095012\n",
      "  2.3863425   2.75559981  3.47802913  2.9907659   2.08810043  4.21372277\n",
      "  7.29453346  2.92216807  3.22937993  3.20481915  3.71776315  2.91825691\n",
      "  3.05981154  5.41903461  3.74180154  4.02232745  3.78534174  3.21987519\n",
      "  3.74342812  2.97074286  4.14283869]\n"
     ]
    }
   ],
   "source": [
    "from sklearn.linear_model import Lasso , Ridge\n",
    "\n",
    "la = Lasso().fit(X_train,Y_train)\n",
    "ri = Ridge().fit(X_train,Y_train)\n",
    "la_p = la.predict(X_test)\n",
    "ri_pred = ri.predict(X_test)\n",
    "\n",
    "calculate_metrics(Y_test,la_p)\n",
    "print(la_p)\n",
    "print(la_p)"
   ]
  },
  {
   "cell_type": "code",
   "execution_count": 61,
   "id": "af6ff64d",
   "metadata": {},
   "outputs": [],
   "source": [
    "import joblib\n",
    "joblib.dump(lrfit,\"model.pkl\")\n",
    "model = joblib.load(\"model.pkl\")"
   ]
  },
  {
   "cell_type": "code",
   "execution_count": null,
   "id": "58445c65",
   "metadata": {},
   "outputs": [],
   "source": []
  }
 ],
 "metadata": {
  "kernelspec": {
   "display_name": "Python 3 (ipykernel)",
   "language": "python",
   "name": "python3"
  },
  "language_info": {
   "codemirror_mode": {
    "name": "ipython",
    "version": 3
   },
   "file_extension": ".py",
   "mimetype": "text/x-python",
   "name": "python",
   "nbconvert_exporter": "python",
   "pygments_lexer": "ipython3",
   "version": "3.11.0"
  }
 },
 "nbformat": 4,
 "nbformat_minor": 5
}
